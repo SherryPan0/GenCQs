{
 "cells": [
  {
   "cell_type": "code",
   "execution_count": null,
   "metadata": {},
   "outputs": [],
   "source": [
    "import os\n",
    "\n",
    "folder_path = 'hci/references'\n",
    "file_paths = []\n",
    "# Iterate through all files in the folder\n",
    "for root, dirs, files in os.walk(folder_path):\n",
    "    for file_name in files:\n",
    "        # Get the absolute path of the file\n",
    "        file_path = os.path.join(root, file_name)\n",
    "        # Append the file path to the list\n",
    "        file_paths.append(file_path)"
   ]
  },
  {
   "cell_type": "code",
   "execution_count": 5,
   "metadata": {},
   "outputs": [
    {
     "name": "stdout",
     "output_type": "stream",
     "text": [
      "['What is an interactive computer system?', 'What is an interactive software system?', 'What is a complex interactive computer system?', 'What does make up the user interface of an interactive computer system?', 'What is a User?', 'How can a user interact in human–computer interactions?', 'Considering intentionality, how can a user interact with an interactive computer system?', 'Why does a user intentionally interact with an interactive computer system?', 'What does make up a complex user participation?', 'What is a human–computer interaction?', 'Considering the human–computer interaction, how can a user participation cause another user participation?', 'How is a user input processed by an interactive computer system?', 'How does a user receive an output from an interactive computer system?', 'How is a user input processed by an interactive computer system and how is the corresponding output presented to him/her?', 'How does a user evaluate if his/her goal was achieved in a human–computer interaction?']\n"
     ]
    }
   ],
   "source": [
    "# !pip install -U sentence-transformers\n",
    "import pandas as pd\n",
    "# from sentence_transformers import SentenceTransformer, util\n",
    "\n",
    "# model = SentenceTransformer(\"all-MiniLM-L6-v2\")\n",
    "gen_cq_file = 'ground-truth-cqs.txt'\n",
    "ground_truth_cq_file = 'gpt-output/gpt-4o-temp-1.0.txt'\n",
    "with open(ground_truth_cq_file, 'r') as f:\n",
    "    expertCQs = [line.strip().split('. ')[1] for line in f]\n",
    "with open(gen_cq_file, 'r') as f:\n",
    "    genCQs = [line.strip().split('. ')[1] for line in f]\n",
    "\n",
    "\n"
   ]
  },
  {
   "cell_type": "code",
   "execution_count": null,
   "metadata": {},
   "outputs": [],
   "source": [
    "data = pd.read_csv('/Users/sherry/python-coding/Prompting/requirement-engeneering/genCQs-expertCQs-reference.csv', names=['expertCQs', 'genCQs'], header=0)\n",
    "\n",
    "genCQs = list(data['genCQs'])\n",
    "expertCQs = list(data['expertCQs'])\n",
    "\n",
    "genCQs_embeddings = model.encode(genCQs)\n",
    "expertCQs_embeddings = model.encode(expertCQs)\n",
    "\n",
    "# Compute cosine similarity between all pairs\n",
    "cos_sim = util.cos_sim(genCQs_embeddings, expertCQs_embeddings)\n",
    "\n",
    "# Add all pairs to a list with their cosine similarity score\n",
    "all_sentence_combinations = []\n",
    "for genCQs_idx in range(77):\n",
    "    for expertCQs_idx in range(77):\n",
    "        all_sentence_combinations.append([cos_sim[genCQs_idx][expertCQs_idx], genCQs_idx, expertCQs_idx])\n",
    "\n",
    "# Sort list by the highest cosine similarity score\n",
    "all_sentence_combinations = sorted(all_sentence_combinations, key=lambda x: x[0], reverse=True)\n",
    "\n",
    "print(\"Top-5 most similar pairs:\")\n",
    "for score, genCQs_idx, expertCQs_idx in all_sentence_combinations[0:5]:\n",
    "    print(\"{} \\t {} \\t {:.4f}\".format(genCQs[genCQs_idx], expertCQs[expertCQs_idx], cos_sim[genCQs_idx][expertCQs_idx]))\n",
    "\n",
    "\n",
    "# save cosine similarity score and the corresponding CQ pairs to a csv file\n",
    "import torch\n",
    "\n",
    "genCQ_ls = []\n",
    "expertCQ_ls = []\n",
    "score_ls = []\n",
    "n = len(all_sentence_combinations)\n",
    "for score, genCQs_idx, expertCQs_idx in all_sentence_combinations[0:n]:\n",
    "    # print(\"{} \\t {} \\t {:.4f}\".format(genCQs[genCQs_idx], expertCQs[expertCQs_idx], cos_sim[genCQs_idx][expertCQs_idx]))\n",
    "    # print(f\"{score.item():.4f}\")\n",
    "    # print(genCQs[genCQs_idx])\n",
    "    # print(expertCQs[expertCQs_idx])\n",
    "    genCQ_ls.append(genCQs[genCQs_idx])\n",
    "    expertCQ_ls.append(expertCQs[expertCQs_idx])\n",
    "    score_ls.append(f\"{score.item():.4f}\")\n",
    "cos_sim_df = pd.DataFrame()\n",
    "cos_sim_df['genCQ'] = genCQ_ls\n",
    "cos_sim_df['expertCQ'] = expertCQ_ls\n",
    "cos_sim_df['cos_score'] = score_ls\n",
    "\n",
    "cos_sim_df.to_csv(\"/Users/sherry/python-coding/Prompting/requirement-engeneering/gen-expert-CQs-cos-one-reference.csv\")"
   ]
  }
 ],
 "metadata": {
  "kernelspec": {
   "display_name": "Python 3",
   "language": "python",
   "name": "python3"
  },
  "language_info": {
   "codemirror_mode": {
    "name": "ipython",
    "version": 3
   },
   "file_extension": ".py",
   "mimetype": "text/x-python",
   "name": "python",
   "nbconvert_exporter": "python",
   "pygments_lexer": "ipython3",
   "version": "3.9.19"
  }
 },
 "nbformat": 4,
 "nbformat_minor": 2
}
