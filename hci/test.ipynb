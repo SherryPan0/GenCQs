{
 "cells": [
  {
   "cell_type": "code",
   "execution_count": 1,
   "metadata": {},
   "outputs": [],
   "source": [
    "import os\n",
    "import csv\n",
    "import re\n",
    "\n",
    "# Define the directory containing the files\n",
    "directory = \"metric_results\"\n",
    "\n",
    "# Define the output CSV file\n",
    "output_csv = \"statistics.csv\"\n",
    "\n",
    "# Open the output CSV file for writing\n",
    "with open(output_csv, mode='w', newline='') as csv_file:\n",
    "    csv_writer = csv.writer(csv_file)\n",
    "    # Write the header row\n",
    "    csv_writer.writerow([\"count\", \"temperature\", \"values\"])\n",
    "\n",
    "    # Iterate through each file in the directory\n",
    "    for filename in os.listdir(directory):\n",
    "        if filename.endswith(\".txt\"):\n",
    "            # Extract the count and temperature from the filename using regex\n",
    "            match = re.search(r'rag-file-count-(\\d+)-gpt-4o-temp-([0-9.]+)\\.txt', filename)\n",
    "            if match:\n",
    "                count = int(match.group(1))\n",
    "                temperature = float(match.group(2))\n",
    "\n",
    "                # Read the data from the file\n",
    "                with open(os.path.join(directory, filename), 'r') as file:\n",
    "                    for line in file:\n",
    "                        # Convert the line to a list of floats\n",
    "                        values = eval(line.strip())\n",
    "                        # Write the data to the CSV\n",
    "                        csv_writer.writerow([count, temperature, values])"
   ]
  },
  {
   "cell_type": "code",
   "execution_count": 4,
   "metadata": {},
   "outputs": [],
   "source": [
    "import pandas as pd\n",
    "import statsmodels.api as sm\n",
    "from statsmodels.stats.multicomp import pairwise_tukeyhsd\n",
    "from statsmodels.formula.api import ols"
   ]
  },
  {
   "cell_type": "code",
   "execution_count": 5,
   "metadata": {},
   "outputs": [],
   "source": [
    "data = pd.read_csv(\"ANOVA.csv\")"
   ]
  },
  {
   "cell_type": "code",
   "execution_count": 6,
   "metadata": {},
   "outputs": [
    {
     "data": {
      "text/html": [
       "<div>\n",
       "<style scoped>\n",
       "    .dataframe tbody tr th:only-of-type {\n",
       "        vertical-align: middle;\n",
       "    }\n",
       "\n",
       "    .dataframe tbody tr th {\n",
       "        vertical-align: top;\n",
       "    }\n",
       "\n",
       "    .dataframe thead th {\n",
       "        text-align: right;\n",
       "    }\n",
       "</style>\n",
       "<table border=\"1\" class=\"dataframe\">\n",
       "  <thead>\n",
       "    <tr style=\"text-align: right;\">\n",
       "      <th></th>\n",
       "      <th>count</th>\n",
       "      <th>temperature</th>\n",
       "      <th>P1</th>\n",
       "    </tr>\n",
       "  </thead>\n",
       "  <tbody>\n",
       "    <tr>\n",
       "      <th>0</th>\n",
       "      <td>0</td>\n",
       "      <td>0.5</td>\n",
       "      <td>0.025974</td>\n",
       "    </tr>\n",
       "    <tr>\n",
       "      <th>1</th>\n",
       "      <td>0</td>\n",
       "      <td>0.5</td>\n",
       "      <td>0.000000</td>\n",
       "    </tr>\n",
       "    <tr>\n",
       "      <th>2</th>\n",
       "      <td>0</td>\n",
       "      <td>0.5</td>\n",
       "      <td>0.025974</td>\n",
       "    </tr>\n",
       "    <tr>\n",
       "      <th>3</th>\n",
       "      <td>0</td>\n",
       "      <td>0.5</td>\n",
       "      <td>0.077922</td>\n",
       "    </tr>\n",
       "    <tr>\n",
       "      <th>4</th>\n",
       "      <td>0</td>\n",
       "      <td>0.5</td>\n",
       "      <td>0.051948</td>\n",
       "    </tr>\n",
       "  </tbody>\n",
       "</table>\n",
       "</div>"
      ],
      "text/plain": [
       "   count  temperature        P1\n",
       "0      0          0.5  0.025974\n",
       "1      0          0.5  0.000000\n",
       "2      0          0.5  0.025974\n",
       "3      0          0.5  0.077922\n",
       "4      0          0.5  0.051948"
      ]
     },
     "execution_count": 6,
     "metadata": {},
     "output_type": "execute_result"
    }
   ],
   "source": [
    "data.head()"
   ]
  },
  {
   "cell_type": "code",
   "execution_count": 7,
   "metadata": {},
   "outputs": [],
   "source": [
    "data['P1'] = pd.to_numeric(data['P1'])"
   ]
  },
  {
   "cell_type": "code",
   "execution_count": 8,
   "metadata": {},
   "outputs": [],
   "source": [
    "data['temperature'] = data['temperature'].astype(str)"
   ]
  },
  {
   "cell_type": "code",
   "execution_count": 9,
   "metadata": {},
   "outputs": [],
   "source": [
    "data['count'] = data['count'].astype(str)"
   ]
  },
  {
   "cell_type": "code",
   "execution_count": 10,
   "metadata": {},
   "outputs": [],
   "source": [
    "model = ols('P1 ~ temperature + count', data=data).fit()"
   ]
  },
  {
   "cell_type": "code",
   "execution_count": 11,
   "metadata": {},
   "outputs": [],
   "source": [
    "anova_table = sm.stats.anova_lm(model, typ=2)"
   ]
  },
  {
   "cell_type": "code",
   "execution_count": 12,
   "metadata": {},
   "outputs": [
    {
     "name": "stdout",
     "output_type": "stream",
     "text": [
      "               sum_sq     df          F        PR(>F)\n",
      "temperature  0.049449    4.0   1.229368  2.980819e-01\n",
      "count        2.984394    6.0  49.464062  1.647666e-43\n",
      "Residual     3.408905  339.0        NaN           NaN\n"
     ]
    }
   ],
   "source": [
    "print(anova_table)"
   ]
  },
  {
   "cell_type": "code",
   "execution_count": 13,
   "metadata": {},
   "outputs": [],
   "source": [
    "tukey_temp = pairwise_tukeyhsd(data['P1'], data['temperature'])"
   ]
  },
  {
   "cell_type": "code",
   "execution_count": 15,
   "metadata": {},
   "outputs": [
    {
     "name": "stdout",
     "output_type": "stream",
     "text": [
      "Multiple Comparison of Means - Tukey HSD, FWER=0.05\n",
      "===================================================\n",
      "group1 group2 meandiff p-adj   lower  upper  reject\n",
      "---------------------------------------------------\n",
      "   0.5   0.75   0.0108 0.9902 -0.0523 0.0739  False\n",
      "   0.5    1.0   -0.018 0.9357 -0.0811 0.0451  False\n",
      "   0.5   1.25  -0.0202 0.9046 -0.0833 0.0429  False\n",
      "   0.5    1.5  -0.0145 0.9703 -0.0776 0.0486  False\n",
      "  0.75    1.0  -0.0288 0.7221 -0.0919 0.0343  False\n",
      "  0.75   1.25   -0.031 0.6623 -0.0941 0.0321  False\n",
      "  0.75    1.5  -0.0252 0.8083 -0.0883 0.0379  False\n",
      "   1.0   1.25  -0.0022    1.0 -0.0653 0.0609  False\n",
      "   1.0    1.5   0.0035 0.9999 -0.0596 0.0666  False\n",
      "  1.25    1.5   0.0058 0.9991 -0.0573 0.0689  False\n",
      "---------------------------------------------------\n"
     ]
    }
   ],
   "source": [
    "print(tukey_temp)"
   ]
  },
  {
   "cell_type": "code",
   "execution_count": 16,
   "metadata": {},
   "outputs": [],
   "source": [
    "tukey_count = pairwise_tukeyhsd(data['P1'], data['count'])"
   ]
  },
  {
   "cell_type": "code",
   "execution_count": 17,
   "metadata": {},
   "outputs": [
    {
     "name": "stdout",
     "output_type": "stream",
     "text": [
      "Multiple Comparison of Means - Tukey HSD, FWER=0.05 \n",
      "====================================================\n",
      "group1 group2 meandiff p-adj   lower   upper  reject\n",
      "----------------------------------------------------\n",
      "     0      1   0.3153    0.0  0.2558  0.3749   True\n",
      "     0     10   0.2496    0.0    0.19  0.3092   True\n",
      "     0      2   0.1301    0.0  0.0706  0.1897   True\n",
      "     0      3   0.1382    0.0  0.0786  0.1977   True\n",
      "     0      4   0.1844    0.0  0.1249   0.244   True\n",
      "     0      5   0.1943    0.0  0.1347  0.2538   True\n",
      "     1     10  -0.0657   0.02 -0.1253 -0.0062   True\n",
      "     1      2  -0.1852    0.0 -0.2448 -0.1256   True\n",
      "     1      3  -0.1771    0.0 -0.2367 -0.1176   True\n",
      "     1      4  -0.1309    0.0 -0.1905 -0.0713   True\n",
      "     1      5   -0.121    0.0 -0.1806 -0.0615   True\n",
      "    10      2  -0.1195    0.0  -0.179 -0.0599   True\n",
      "    10      3  -0.1114    0.0  -0.171 -0.0519   True\n",
      "    10      4  -0.0652 0.0217 -0.1248 -0.0056   True\n",
      "    10      5  -0.0553 0.0882 -0.1149  0.0042  False\n",
      "     2      3   0.0081 0.9997 -0.0515  0.0676  False\n",
      "     2      4   0.0543 0.1006 -0.0053  0.1138  False\n",
      "     2      5   0.0642 0.0254  0.0046  0.1237   True\n",
      "     3      4   0.0462 0.2459 -0.0133  0.1058  False\n",
      "     3      5   0.0561 0.0798 -0.0035  0.1157  False\n",
      "     4      5   0.0099  0.999 -0.0497  0.0694  False\n",
      "----------------------------------------------------\n"
     ]
    }
   ],
   "source": [
    "print(tukey_count)"
   ]
  },
  {
   "cell_type": "code",
   "execution_count": null,
   "metadata": {},
   "outputs": [],
   "source": []
  }
 ],
 "metadata": {
  "kernelspec": {
   "display_name": "Python 3",
   "language": "python",
   "name": "python3"
  },
  "language_info": {
   "codemirror_mode": {
    "name": "ipython",
    "version": 3
   },
   "file_extension": ".py",
   "mimetype": "text/x-python",
   "name": "python",
   "nbconvert_exporter": "python",
   "pygments_lexer": "ipython3",
   "version": "3.9.19"
  }
 },
 "nbformat": 4,
 "nbformat_minor": 2
}
