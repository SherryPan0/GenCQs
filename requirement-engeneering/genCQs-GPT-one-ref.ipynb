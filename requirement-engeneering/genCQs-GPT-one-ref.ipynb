{
 "cells": [
  {
   "cell_type": "markdown",
   "metadata": {},
   "source": [
    "### Create an assistant"
   ]
  },
  {
   "cell_type": "code",
   "execution_count": 1,
   "metadata": {},
   "outputs": [],
   "source": [
    "from openai import OpenAI\n",
    "import os\n",
    "\n",
    "key = os.environ.get(\"OPENAI_API_KEY\")\n",
    "client = OpenAI(api_key=key)\n",
    "assistant = client.beta.assistants.create(\n",
    "    name = \"Expert in Requirements Engineering\",\n",
    "    instructions=\"You are an expert in Requirements Engineering. Your purpose is to organizing scientific data in an openly available and long-term way with respect to building, publishing, and evaluating an initial Knowledge Graph of empirical research in Requirement Engineering. To achieve this goal, you need to create an knowledge graph which enables sustainable literature reviews to synthesize a comprehensive, up-to-date, and long-term available overview of the state and evolution of empirical research in Requirement Engineering. To create such a knowledge graph, you first need to come up with some competency questions. An competency question is a natural language question that represents an information need related to the content of a knowledge graph and for which a knowledge graph must provide relevant information to anwser the question. Now you are given a set of documents about the state and evolution of this field.\",\n",
    "    tools=[{\"type\": \"file_search\"}],\n",
    "    model=\"gpt-4-turbo\"\n",
    ")"
   ]
  },
  {
   "cell_type": "markdown",
   "metadata": {},
   "source": [
    "### Upload files and add them to a Vector Store"
   ]
  },
  {
   "cell_type": "code",
   "execution_count": 2,
   "metadata": {},
   "outputs": [
    {
     "name": "stdout",
     "output_type": "stream",
     "text": [
      "completed\n",
      "FileCounts(cancelled=0, completed=1, failed=0, in_progress=0, total=1)\n"
     ]
    }
   ],
   "source": [
    "import os\n",
    "\n",
    "def get_file_paths(folder_path):\n",
    "    file_paths = []\n",
    "    # Iterate through all files in the folder\n",
    "    for root, dirs, files in os.walk(folder_path):\n",
    "        for file_name in files:\n",
    "            # Get the absolute path of the file\n",
    "            file_path = os.path.join(root, file_name)\n",
    "            # Append the file path to the list\n",
    "            file_paths.append(file_path)\n",
    "    return file_paths\n",
    "\n",
    "# create a Vector Store\n",
    "vector_store = client.beta.vector_stores.create(name=\"requirments-engineering\")\n",
    "\n",
    "folder = \"reference\"\n",
    "file_paths = get_file_paths(folder)\n",
    "file_streams = [open(path, 'rb') for path in file_paths]\n",
    "file_batch = client.beta.vector_stores.file_batches.upload_and_poll(\n",
    "    vector_store_id=vector_store.id,\n",
    "    files=file_streams\n",
    ")\n",
    "\n",
    "print(file_batch.status)\n",
    "print(file_batch.file_counts)"
   ]
  },
  {
   "cell_type": "markdown",
   "metadata": {},
   "source": [
    "### Update the assistant to use the new Vector Store"
   ]
  },
  {
   "cell_type": "code",
   "execution_count": 3,
   "metadata": {},
   "outputs": [],
   "source": [
    "assistant = client.beta.assistants.update(\n",
    "    assistant_id=assistant.id,\n",
    "    tools=[{\"type\": \"file_search\"}],\n",
    "    tool_resources={\"file_search\": {\"vector_store_ids\": [vector_store.id]}},\n",
    ")"
   ]
  },
  {
   "cell_type": "markdown",
   "metadata": {},
   "source": [
    "### Create a thread"
   ]
  },
  {
   "cell_type": "code",
   "execution_count": 4,
   "metadata": {},
   "outputs": [],
   "source": [
    "thread = client.beta.threads.create()"
   ]
  },
  {
   "cell_type": "markdown",
   "metadata": {},
   "source": [
    "### Add a message to the thread"
   ]
  },
  {
   "cell_type": "markdown",
   "metadata": {},
   "source": [
    "\n",
    "#### define get responce function"
   ]
  },
  {
   "cell_type": "code",
   "execution_count": 5,
   "metadata": {},
   "outputs": [],
   "source": [
    "def get_response(query,client,assistant,thread):\n",
    "    # add message to the thread\n",
    "    message = client.beta.threads.messages.create(\n",
    "        thread_id=thread.id,\n",
    "        role=\"user\",\n",
    "        content=query\n",
    "    )\n",
    "\n",
    "    # create a run\n",
    "    run = client.beta.threads.runs.create_and_poll(\n",
    "        thread_id=thread.id,\n",
    "        assistant_id=assistant.id\n",
    "    )\n",
    "\n",
    "    # get messages\n",
    "    messages = list(client.beta.threads.messages.list(thread_id=thread.id, run_id=run.id))\n",
    "    message_content = messages[0].content[0].text\n",
    "    print(f'message_content: {message_content}')\n",
    "    annotations = message_content.annotations\n",
    "    citations = []\n",
    "    for index, annotation in enumerate(annotations):\n",
    "        message_content.value = message_content.value.replace(annotation.text, f\"[{index}]\")\n",
    "        if file_citation := getattr(annotation, \"file_citation\", None):\n",
    "            cited_file = client.files.retrieve(file_citation.file_id)\n",
    "            citations.append(f\"[{index}] {cited_file.filename}\")\n",
    "\n",
    "    # print(message_content.value)\n",
    "    # print(\"\\n\".join(citations))\n",
    "    return message_content.value,citations"
   ]
  },
  {
   "cell_type": "markdown",
   "metadata": {},
   "source": [
    "#### query 1"
   ]
  },
  {
   "cell_type": "code",
   "execution_count": 6,
   "metadata": {},
   "outputs": [
    {
     "name": "stdout",
     "output_type": "stream",
     "text": [
      "message_content: Text(annotations=[FileCitationAnnotation(end_index=861, file_citation=FileCitation(file_id='file-aqfDQ8qhVMmpluder9DszFgq', quote=None), start_index=849, text='【4:0†source】', type='file_citation')], value='Requirements Engineering (RE) is fundamentally about developing, maintaining, and managing high-quality software systems in a cost-effective and predictable manner. It involves studying real-world phenomena of software engineering, which includes developing new or modifying existing technologies such as process models, methods, techniques, tools, or languages to support software engineering activities. Additionally, it concerns the evaluation and comparison of these technologies within the complex interactions between individuals, teams, projects, organizations, various task types, and software systems. To ensure that research in this field is scientific, it employs empirical methods, which involve systematic observation and experimentation as a basis for gathering information, rather than relying solely on deductive logic or mathematics【4:0†source】.')\n",
      "************\n",
      "query: what is requirments engineering\n",
      "response: Requirements Engineering (RE) is fundamentally about developing, maintaining, and managing high-quality software systems in a cost-effective and predictable manner. It involves studying real-world phenomena of software engineering, which includes developing new or modifying existing technologies such as process models, methods, techniques, tools, or languages to support software engineering activities. Additionally, it concerns the evaluation and comparison of these technologies within the complex interactions between individuals, teams, projects, organizations, various task types, and software systems. To ensure that research in this field is scientific, it employs empirical methods, which involve systematic observation and experimentation as a basis for gathering information, rather than relying solely on deductive logic or mathematics[0].\n",
      "reference: ['[0] The_Future_of_Empirical_Methods_in_Software_Engineering_Research.pdf']\n"
     ]
    }
   ],
   "source": [
    "query = \"what is requirments engineering\"\n",
    "response = get_response(query,client,assistant,thread)\n",
    "print(\"************\")\n",
    "print(f\"query: {query}\")\n",
    "print(f'response: {response[0]}')\n",
    "print(f\"reference: {response[1]}\")"
   ]
  },
  {
   "cell_type": "markdown",
   "metadata": {},
   "source": [
    "#### query 2"
   ]
  },
  {
   "cell_type": "code",
   "execution_count": 8,
   "metadata": {},
   "outputs": [
    {
     "name": "stdout",
     "output_type": "stream",
     "text": [
      "message_content: Text(annotations=[], value='Based on the document provided, here are 77 competency questions for a knowledge graph on the state and evolution of empirical research in Requirements Engineering (RE):\\n\\n1. What are the defining characteristics of empirical RE?\\n2. How have empirical methods in RE evolved over the years?\\n3. Which empirical RE methods are most effective for different types of projects?\\n4. What key challenges do researchers face in empirical RE according to recent studies?\\n5. How is empirical RE contributing to software engineering innovations?\\n6. What collaborations exist between academia and industry in the field of empirical RE?\\n7. How do different empirical methods impact the development and maintenance of software systems?\\n8. What trends are influencing the direction of empirical RE currently?\\n9. How do theoretical frameworks influence empirical RE methodologies?\\n10. What tools and technologies are being developed based on empirical RE findings?\\n11. Which countries or regions are leading in the publication of empirical RE studies?\\n12. How do empirical RE findings affect software quality standards?\\n13. What role does empirical evidence play in decision-making processes in RE?\\n14. What is the financial funding landscape for empirical RE studies?\\n15. How do organizations implement findings from empirical RE studies?\\n16. Which educational programs are emphasizing empirical RE?\\n17. How are empirical findings shared and exchanged within the RE community?\\n18. What methodologies are used to ensure the quality of empirical RE studies?\\n19. What impact have international collaborations had on the field of empirical RE?\\n20. How are results from empirical RE studies integrated into practical applications?\\n21. What new theories have emerged from empirical RE studies?\\n22. How are new RE technologies tested empirically before release?\\n23. What is the role of empirical RE in software process improvement?\\n24. How do empirical studies influence software development practices?\\n25. What are the ethical considerations in conducting empirical RE?\\n26. How is data from empirical RE analyzed and interpreted?\\n27. What are the barriers to conducting large-scale empirical RE studies?\\n28. How do funding bodies influence the direction of empirical RE?\\n29. What statistical methods are most commonly used in empirical RE?\\n30. How do empirical RE studies deal with the challenges of software complexity?\\n31. How does the RE community validate new empirical methods?\\n32. What are the common pitfalls in designing empirical RE studies?\\n33. How does empirical evidence influence software development timelines?\\n34. What collaboration tools are most effective according to empirical RE?\\n35. How do empirical RE findings influence software team dynamics?\\n36. What are the long-term impacts of empirical RE on the software industry?\\n37. How does empirical RE address the needs of different stakeholders in software projects?\\n38. What mechanisms exist for updating empirical RE methods?\\n39. How do empirical RE researchers handle conflicting evidence?\\n40. What are the success rates of projects that implement empirical RE findings?\\n41. How do empirical methods contribute to the scalability of software systems?\\n42. What are the environmental impacts considered in empirical RE?\\n43. How do empirical RE studies ensure participant privacy and data security?\\n44. What is the role of peer reviews in empirical RE studies?\\n45. How does empirical RE tackle emerging software engineering problems?\\n46. What are the impacts of empirical RE on project budgeting and finance?\\n47. How do empirical RE findings influence regulatory policies?\\n48. What are the career paths for researchers in empirical RE?\\n49. How do empirical RE studies measure user satisfaction?\\n50. What are the governance structures for empirical RE projects?\\n51. How does empirical RE adapt to rapidly changing technology landscapes?\\n52. What is the correlation between empirical RE methods and project success rates?\\n53. How do cultural factors influence the outcomes of empirical RE studies?\\n54. What quality metrics are most impacted by empirical RE findings?\\n55. How do empirical RE studies address the issue of software maintenance?\\n56. What are the typical time frames involved in conducting empirical RE studies?\\n57. How does empirical RE influence software design paradigms?\\n58. What are the main sources of funding for empirical RE studies?\\n59. How does empirical RE affect software testing methodologies?\\n60. What are the main dissemination channels for empirical RE findings?\\n61. What roles do industry partnerships play in the context of empirical RE?\\n62. How is inter-disciplinary collaboration facilitated in empirical RE?\\n63. What are the main competitive factors in the empirical RE publishing landscape?\\n64. How is success defined in the context of empirical RE studies?\\n65. What are the main challenges in replicating empirical RE studies?\\n66. How does empirical RE contribute to the standardization of software practices?\\n67. What are the most controversial findings from empirical RE studies in recent years?\\n68. How are empirical methodologies tailored to different software development methodologies?\\n69. What are the key performance indicators used in empirical RE studies?\\n70. How are longitudinal empirical RE studies designed and executed?\\n71. What role does empirical RE play in crisis management within software projects?\\n72. How do funding models influence the scope and scale of empirical RE studies?\\n73. What are the main logistical challenges in conducting multi-national empirical RE studies?\\n74. How is the effectiveness of new empirical RE methods measured?\\n75. What are the impacts of technological advancements on empirical RE methods?\\n76. How do empirical RE findings influence software architecture decisions?\\n77. What are the emerging technologies that could revolutionize empirical RE?\\n\\nThese questions derive from themes and issues discussed throughout the document about empirical methods in software engineering research .')\n",
      "query: Now you are developing an knowledge graph about the state and evolution of the empirical research in Requirements Engineering. Derive 77 competency questions from the provided documents.\n",
      "response: Based on the document provided, here are 77 competency questions for a knowledge graph on the state and evolution of empirical research in Requirements Engineering (RE):\n",
      "\n",
      "1. What are the defining characteristics of empirical RE?\n",
      "2. How have empirical methods in RE evolved over the years?\n",
      "3. Which empirical RE methods are most effective for different types of projects?\n",
      "4. What key challenges do researchers face in empirical RE according to recent studies?\n",
      "5. How is empirical RE contributing to software engineering innovations?\n",
      "6. What collaborations exist between academia and industry in the field of empirical RE?\n",
      "7. How do different empirical methods impact the development and maintenance of software systems?\n",
      "8. What trends are influencing the direction of empirical RE currently?\n",
      "9. How do theoretical frameworks influence empirical RE methodologies?\n",
      "10. What tools and technologies are being developed based on empirical RE findings?\n",
      "11. Which countries or regions are leading in the publication of empirical RE studies?\n",
      "12. How do empirical RE findings affect software quality standards?\n",
      "13. What role does empirical evidence play in decision-making processes in RE?\n",
      "14. What is the financial funding landscape for empirical RE studies?\n",
      "15. How do organizations implement findings from empirical RE studies?\n",
      "16. Which educational programs are emphasizing empirical RE?\n",
      "17. How are empirical findings shared and exchanged within the RE community?\n",
      "18. What methodologies are used to ensure the quality of empirical RE studies?\n",
      "19. What impact have international collaborations had on the field of empirical RE?\n",
      "20. How are results from empirical RE studies integrated into practical applications?\n",
      "21. What new theories have emerged from empirical RE studies?\n",
      "22. How are new RE technologies tested empirically before release?\n",
      "23. What is the role of empirical RE in software process improvement?\n",
      "24. How do empirical studies influence software development practices?\n",
      "25. What are the ethical considerations in conducting empirical RE?\n",
      "26. How is data from empirical RE analyzed and interpreted?\n",
      "27. What are the barriers to conducting large-scale empirical RE studies?\n",
      "28. How do funding bodies influence the direction of empirical RE?\n",
      "29. What statistical methods are most commonly used in empirical RE?\n",
      "30. How do empirical RE studies deal with the challenges of software complexity?\n",
      "31. How does the RE community validate new empirical methods?\n",
      "32. What are the common pitfalls in designing empirical RE studies?\n",
      "33. How does empirical evidence influence software development timelines?\n",
      "34. What collaboration tools are most effective according to empirical RE?\n",
      "35. How do empirical RE findings influence software team dynamics?\n",
      "36. What are the long-term impacts of empirical RE on the software industry?\n",
      "37. How does empirical RE address the needs of different stakeholders in software projects?\n",
      "38. What mechanisms exist for updating empirical RE methods?\n",
      "39. How do empirical RE researchers handle conflicting evidence?\n",
      "40. What are the success rates of projects that implement empirical RE findings?\n",
      "41. How do empirical methods contribute to the scalability of software systems?\n",
      "42. What are the environmental impacts considered in empirical RE?\n",
      "43. How do empirical RE studies ensure participant privacy and data security?\n",
      "44. What is the role of peer reviews in empirical RE studies?\n",
      "45. How does empirical RE tackle emerging software engineering problems?\n",
      "46. What are the impacts of empirical RE on project budgeting and finance?\n",
      "47. How do empirical RE findings influence regulatory policies?\n",
      "48. What are the career paths for researchers in empirical RE?\n",
      "49. How do empirical RE studies measure user satisfaction?\n",
      "50. What are the governance structures for empirical RE projects?\n",
      "51. How does empirical RE adapt to rapidly changing technology landscapes?\n",
      "52. What is the correlation between empirical RE methods and project success rates?\n",
      "53. How do cultural factors influence the outcomes of empirical RE studies?\n",
      "54. What quality metrics are most impacted by empirical RE findings?\n",
      "55. How do empirical RE studies address the issue of software maintenance?\n",
      "56. What are the typical time frames involved in conducting empirical RE studies?\n",
      "57. How does empirical RE influence software design paradigms?\n",
      "58. What are the main sources of funding for empirical RE studies?\n",
      "59. How does empirical RE affect software testing methodologies?\n",
      "60. What are the main dissemination channels for empirical RE findings?\n",
      "61. What roles do industry partnerships play in the context of empirical RE?\n",
      "62. How is inter-disciplinary collaboration facilitated in empirical RE?\n",
      "63. What are the main competitive factors in the empirical RE publishing landscape?\n",
      "64. How is success defined in the context of empirical RE studies?\n",
      "65. What are the main challenges in replicating empirical RE studies?\n",
      "66. How does empirical RE contribute to the standardization of software practices?\n",
      "67. What are the most controversial findings from empirical RE studies in recent years?\n",
      "68. How are empirical methodologies tailored to different software development methodologies?\n",
      "69. What are the key performance indicators used in empirical RE studies?\n",
      "70. How are longitudinal empirical RE studies designed and executed?\n",
      "71. What role does empirical RE play in crisis management within software projects?\n",
      "72. How do funding models influence the scope and scale of empirical RE studies?\n",
      "73. What are the main logistical challenges in conducting multi-national empirical RE studies?\n",
      "74. How is the effectiveness of new empirical RE methods measured?\n",
      "75. What are the impacts of technological advancements on empirical RE methods?\n",
      "76. How do empirical RE findings influence software architecture decisions?\n",
      "77. What are the emerging technologies that could revolutionize empirical RE?\n",
      "\n",
      "These questions derive from themes and issues discussed throughout the document about empirical methods in software engineering research .\n",
      "reference: []\n"
     ]
    }
   ],
   "source": [
    "query = \"Now you are developing an knowledge graph about the state and evolution of the empirical research in Requirements Engineering. Derive 77 competency questions from the provided documents.\"\n",
    "response = get_response(query,client,assistant,thread)\n",
    "print(f\"query: {query}\")\n",
    "print(f'response: {response[0]}')\n",
    "print(f\"reference: {response[1]}\")"
   ]
  },
  {
   "cell_type": "markdown",
   "metadata": {},
   "source": [
    "### Use Sentence Transformers to compare CQs similarity"
   ]
  },
  {
   "cell_type": "code",
   "execution_count": 9,
   "metadata": {},
   "outputs": [
    {
     "name": "stderr",
     "output_type": "stream",
     "text": [
      "/Users/sherry/anaconda3/lib/python3.11/site-packages/huggingface_hub/file_download.py:1132: FutureWarning: `resume_download` is deprecated and will be removed in version 1.0.0. Downloads always resume when possible. If you want to force a new download, use `force_download=True`.\n",
      "  warnings.warn(\n"
     ]
    }
   ],
   "source": [
    "# !pip install -U sentence-transformers\n",
    "from sentence_transformers import SentenceTransformer, util\n",
    "import pandas as pd\n",
    "\n",
    "model = SentenceTransformer(\"all-MiniLM-L6-v2\")\n",
    "\n",
    "data = pd.read_csv('/Users/sherry/python-coding/Prompting/requirement-engeneering/genCQs-expertCQs-reference.csv', names=['expertCQs', 'genCQs'], header=0)\n",
    "\n",
    "genCQs = list(data['genCQs'])\n",
    "expertCQs = list(data['expertCQs'])\n",
    "\n",
    "genCQs_embeddings = model.encode(genCQs)\n",
    "expertCQs_embeddings = model.encode(expertCQs)\n",
    "\n",
    "# Compute cosine similarity between all pairs\n",
    "cos_sim = util.cos_sim(genCQs_embeddings, expertCQs_embeddings)"
   ]
  },
  {
   "cell_type": "code",
   "execution_count": 10,
   "metadata": {},
   "outputs": [
    {
     "name": "stdout",
     "output_type": "stream",
     "text": [
      "Top-5 most similar pairs:\n",
      "How have empirical methods in RE evolved over the years? \t How has the number of empirical methods used per publication evolved over time? \t 0.8098\n",
      "How have empirical methods in RE evolved over the years? \t How often are which empirical methods used over time? \t 0.8066\n",
      "What statistical methods are most commonly used in empirical RE? \t How often are which empirical methods used? \t 0.7922\n",
      "How have empirical methods in RE evolved over the years? \t How often are which empirical methods used? \t 0.7917\n",
      "How do empirical studies influence software development practices? \t How many empirical studies are by authors working for large software development companies? \t 0.7854\n"
     ]
    }
   ],
   "source": [
    "# Add all pairs to a list with their cosine similarity score\n",
    "all_sentence_combinations = []\n",
    "for genCQs_idx in range(77):\n",
    "    for expertCQs_idx in range(77):\n",
    "        all_sentence_combinations.append([cos_sim[genCQs_idx][expertCQs_idx], genCQs_idx, expertCQs_idx])\n",
    "\n",
    "# Sort list by the highest cosine similarity score\n",
    "all_sentence_combinations = sorted(all_sentence_combinations, key=lambda x: x[0], reverse=True)\n",
    "\n",
    "print(\"Top-5 most similar pairs:\")\n",
    "for score, genCQs_idx, expertCQs_idx in all_sentence_combinations[0:5]:\n",
    "    print(\"{} \\t {} \\t {:.4f}\".format(genCQs[genCQs_idx], expertCQs[expertCQs_idx], cos_sim[genCQs_idx][expertCQs_idx]))"
   ]
  },
  {
   "cell_type": "markdown",
   "metadata": {},
   "source": [
    "### Save cosine similarity score and the corresponding CQ pairs to a csv file"
   ]
  },
  {
   "cell_type": "code",
   "execution_count": 11,
   "metadata": {},
   "outputs": [],
   "source": [
    "# save cosine similarity score and the corresponding CQ pairs to a csv file\n",
    "import torch\n",
    "\n",
    "genCQ_ls = []\n",
    "expertCQ_ls = []\n",
    "score_ls = []\n",
    "n = len(all_sentence_combinations)\n",
    "for score, genCQs_idx, expertCQs_idx in all_sentence_combinations[0:n]:\n",
    "    # print(\"{} \\t {} \\t {:.4f}\".format(genCQs[genCQs_idx], expertCQs[expertCQs_idx], cos_sim[genCQs_idx][expertCQs_idx]))\n",
    "    # print(f\"{score.item():.4f}\")\n",
    "    # print(genCQs[genCQs_idx])\n",
    "    # print(expertCQs[expertCQs_idx])\n",
    "    genCQ_ls.append(genCQs[genCQs_idx])\n",
    "    expertCQ_ls.append(expertCQs[expertCQs_idx])\n",
    "    score_ls.append(f\"{score.item():.4f}\")\n",
    "cos_sim_df = pd.DataFrame()\n",
    "cos_sim_df['genCQ'] = genCQ_ls\n",
    "cos_sim_df['expertCQ'] = expertCQ_ls\n",
    "cos_sim_df['cos_score'] = score_ls\n",
    "\n",
    "cos_sim_df.to_csv(\"/Users/sherry/python-coding/Prompting/requirement-engeneering/gen-expert-CQs-cos-one-reference.csv\")"
   ]
  },
  {
   "cell_type": "code",
   "execution_count": null,
   "metadata": {},
   "outputs": [],
   "source": []
  }
 ],
 "metadata": {
  "kernelspec": {
   "display_name": "base",
   "language": "python",
   "name": "python3"
  },
  "language_info": {
   "codemirror_mode": {
    "name": "ipython",
    "version": 3
   },
   "file_extension": ".py",
   "mimetype": "text/x-python",
   "name": "python",
   "nbconvert_exporter": "python",
   "pygments_lexer": "ipython3",
   "version": "3.11.5"
  }
 },
 "nbformat": 4,
 "nbformat_minor": 2
}
