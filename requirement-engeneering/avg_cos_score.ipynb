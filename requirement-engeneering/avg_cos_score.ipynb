{
 "cells": [
  {
   "cell_type": "code",
   "execution_count": 1,
   "metadata": {},
   "outputs": [],
   "source": [
    "import pandas as pd"
   ]
  },
  {
   "cell_type": "code",
   "execution_count": 68,
   "metadata": {},
   "outputs": [],
   "source": [
    "file = \"gen-results/gen-expert-CQs-cos-no-reference-gpt4-round2.csv\"\n",
    "data = pd.read_csv(file)\n",
    "expertCQs = list(set(data['expertCQ']))"
   ]
  },
  {
   "cell_type": "code",
   "execution_count": 69,
   "metadata": {},
   "outputs": [],
   "source": [
    "highest_score_expertCQs = pd.DataFrame()\n",
    "scores = []\n",
    "best_genCQs = []\n",
    "for i in expertCQs:\n",
    "    # print(i)\n",
    "    filtered_data = data[data['expertCQ'] == i]\n",
    "    sorted_data = filtered_data.sort_values(by='cos_score', ascending=False)\n",
    "    cos = list(sorted_data['cos_score'])[0]\n",
    "    best_genCQ = list(sorted_data['genCQ'])[0]\n",
    "    best_genCQs.append(best_genCQ)\n",
    "    scores.append(cos)\n",
    "    # print(best_genCQ, cos)\n",
    "\n",
    "highest_score_expertCQs['expertCQs'] = expertCQs\n",
    "highest_score_expertCQs['best_genCQs'] = best_genCQs\n",
    "highest_score_expertCQs['best_cos_score'] = scores"
   ]
  },
  {
   "cell_type": "code",
   "execution_count": 72,
   "metadata": {},
   "outputs": [
    {
     "name": "stdout",
     "output_type": "stream",
     "text": [
      "precision: 0.0909 \n"
     ]
    }
   ],
   "source": [
    "precision = len(highest_score_expertCQs[highest_score_expertCQs['best_cos_score'] >= 0.5])/len(expertCQs)\n",
    "print(f'precision: {precision:0.4f} ')"
   ]
  },
  {
   "cell_type": "code",
   "execution_count": null,
   "metadata": {},
   "outputs": [],
   "source": [
    "output_file = 'highest_cos_results_each_expertCQ/no-reference-gpt3.5.csv'\n",
    "highest_score_expertCQs.to_csv(output_file)"
   ]
  }
 ],
 "metadata": {
  "kernelspec": {
   "display_name": "base",
   "language": "python",
   "name": "python3"
  },
  "language_info": {
   "codemirror_mode": {
    "name": "ipython",
    "version": 3
   },
   "file_extension": ".py",
   "mimetype": "text/x-python",
   "name": "python",
   "nbconvert_exporter": "python",
   "pygments_lexer": "ipython3",
   "version": "3.11.5"
  }
 },
 "nbformat": 4,
 "nbformat_minor": 2
}
